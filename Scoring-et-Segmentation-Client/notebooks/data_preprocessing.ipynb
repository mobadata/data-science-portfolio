{
 "cells": [
  {
   "cell_type": "markdown",
   "metadata": {},
   "source": [
    "### Importation des librairies\n"
   ]
  },
  {
   "cell_type": "code",
   "execution_count": 1,
   "metadata": {},
   "outputs": [],
   "source": [
    "import pandas as pd\n",
    "import numpy as np\n",
    "import seaborn as sns\n",
    "import matplotlib.pyplot as plt\n",
    "from sklearn.preprocessing import StandardScaler"
   ]
  },
  {
   "cell_type": "markdown",
   "metadata": {},
   "source": [
    "### Définition de la fonction de chargement des données"
   ]
  },
  {
   "cell_type": "code",
   "execution_count": 22,
   "metadata": {},
   "outputs": [],
   "source": [
    "def load_data(file_path):\n",
    "    \"\"\"\n",
    "    Charge le fichier CSV et retourne un DataFrame.\n",
    "    \"\"\"\n",
    "    try:\n",
    "        df = pd.read_csv(file_path, sep=',')\n",
    "        print(f\"Fichier chargé avec succès. Dimensions : {df.shape}\")\n",
    "        \n",
    "        return df \n",
    "    except FileNotFoundError:\n",
    "        print(f\"Erreur : Le fichier à l'emplacement {file_path} est introuvable.\")\n",
    "        return None\n"
   ]
  },
  {
   "cell_type": "markdown",
   "metadata": {},
   "source": [
    "### Fonction de Nettoyage"
   ]
  },
  {
   "cell_type": "code",
   "execution_count": 28,
   "metadata": {},
   "outputs": [],
   "source": [
    "def clean_data(df):\n",
    "    \"\"\"\n",
    "    Nettoie les données :\n",
    "    - Supprime les doublons\n",
    "    - Supprime les colonnes constantes\n",
    "    \"\"\"\n",
    "    # Suppression des doublons\n",
    "    initial_shape = df.shape\n",
    "    df = df.drop_duplicates()\n",
    "    print(f\"Doublons supprimés. Dimensions : {initial_shape} -> {df.shape}\")\n",
    "    \n",
    "    # Suppression des colonnes constantes\n",
    "    constant_cols = [col for col in df.columns if df[col].nunique() == 1]\n",
    "    df.drop(constant_cols, axis=1, inplace=True)\n",
    "    print(f\"Colonnes supprimées (variables constantes) : {constant_cols}\")\n",
    "    \n",
    "    return df\n"
   ]
  },
  {
   "cell_type": "markdown",
   "metadata": {},
   "source": [
    "### Fonction de tranformation"
   ]
  },
  {
   "cell_type": "code",
   "execution_count": 29,
   "metadata": {},
   "outputs": [],
   "source": [
    "def transform_data(df):\n",
    "    \"\"\"\n",
    "    Effectue les transformations : suppression colonnes inutiles, normalisation.\n",
    "    \"\"\"\n",
    "    # Suppression des colonnes cle et type_client (on doit faire une segmentation donc on a pas besoin type_client)\n",
    "    if 'cle' in df.columns and 'type_client' in df.columns:\n",
    "        df.drop(['cle', 'type_client'], axis=1, inplace=True) \n",
    "        print(\"Colonnes 'cle' et 'type_client' supprimées.\")\n",
    "    \n",
    "    # Normalisation des données numériques\n",
    "    numeric_cols = df.select_dtypes(include=[np.number]).columns\n",
    "    scaler = StandardScaler()\n",
    "    df[numeric_cols] = scaler.fit_transform(df[numeric_cols])\n",
    "    print(\"Colonnes numériques normalisées.\")\n",
    "\n",
    "    return df\n"
   ]
  },
  {
   "cell_type": "markdown",
   "metadata": {},
   "source": [
    "### Définition des chemins"
   ]
  },
  {
   "cell_type": "code",
   "execution_count": 30,
   "metadata": {},
   "outputs": [],
   "source": [
    "# Chemins des fichiers\n",
    "input_path = 'C:/Users/Visiteur/Desktop/Projets Data/data-science-portfolio/Scoring-et-Segmentation-Client/data/assurance1.csv'\n",
    "output_path = 'C:/Users/Visiteur/Desktop/Projets Data/data-science-portfolio/Scoring-et-Segmentation-Client/data/processed_data.csv'\n"
   ]
  },
  {
   "cell_type": "markdown",
   "metadata": {},
   "source": [
    "### Chargement des données"
   ]
  },
  {
   "cell_type": "code",
   "execution_count": 31,
   "metadata": {},
   "outputs": [
    {
     "name": "stdout",
     "output_type": "stream",
     "text": [
      "Fichier chargé avec succès. Dimensions : (5822, 37)\n",
      "Données chargées avec succès.\n"
     ]
    }
   ],
   "source": [
    "# Chargement des données\n",
    "df = load_data(input_path)\n",
    "if df is not None:\n",
    "    print(\"Données chargées avec succès.\")\n",
    "else:\n",
    "    print(\"Échec du chargement des données.\")\n"
   ]
  },
  {
   "cell_type": "markdown",
   "metadata": {},
   "source": [
    "### Nettoyage des données\n"
   ]
  },
  {
   "cell_type": "code",
   "execution_count": 32,
   "metadata": {},
   "outputs": [
    {
     "name": "stdout",
     "output_type": "stream",
     "text": [
      "Doublons supprimés. Dimensions : (5822, 37) -> (5822, 37)\n",
      "Colonnes supprimées (variables constantes) : []\n",
      "Nettoyage terminé.\n"
     ]
    }
   ],
   "source": [
    "if df is not None:\n",
    "    df = clean_data(df)\n",
    "    print(\"Nettoyage terminé.\")"
   ]
  },
  {
   "cell_type": "markdown",
   "metadata": {},
   "source": [
    "### Tranformation des données"
   ]
  },
  {
   "cell_type": "code",
   "execution_count": 25,
   "metadata": {},
   "outputs": [
    {
     "name": "stdout",
     "output_type": "stream",
     "text": [
      "Colonnes 'cle' et 'type_client' supprimées.\n",
      "Colonnes numériques normalisées.\n",
      "Transformation terminée.\n"
     ]
    }
   ],
   "source": [
    "if df is not None:\n",
    "    df = transform_data(df)\n",
    "    print(\"Transformation terminée.\")\n"
   ]
  },
  {
   "cell_type": "markdown",
   "metadata": {},
   "source": [
    "### Sauvegarde des données nettoyées"
   ]
  },
  {
   "cell_type": "code",
   "execution_count": 26,
   "metadata": {},
   "outputs": [
    {
     "name": "stdout",
     "output_type": "stream",
     "text": [
      "Données sauvegardées avec succès à : C:/Users/Visiteur/Desktop/Projets Data/data-science-portfolio/Scoring-et-Segmentation-Client/data/processed_data.csv\n"
     ]
    }
   ],
   "source": [
    "if df is not None:\n",
    "    df.to_csv(output_path, index=False)\n",
    "    print(f\"Données sauvegardées avec succès à : {output_path}\")\n"
   ]
  }
 ],
 "metadata": {
  "kernelspec": {
   "display_name": "venv",
   "language": "python",
   "name": "python3"
  },
  "language_info": {
   "codemirror_mode": {
    "name": "ipython",
    "version": 3
   },
   "file_extension": ".py",
   "mimetype": "text/x-python",
   "name": "python",
   "nbconvert_exporter": "python",
   "pygments_lexer": "ipython3",
   "version": "3.7.6"
  }
 },
 "nbformat": 4,
 "nbformat_minor": 2
}
